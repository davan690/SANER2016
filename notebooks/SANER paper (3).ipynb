{
 "cells": [
  {
   "cell_type": "code",
   "execution_count": 1,
   "metadata": {
    "collapsed": false
   },
   "outputs": [],
   "source": [
    "import locale\n",
    "locale.setlocale(locale.LC_ALL,'en_US')\n",
    "\n",
    "import pandas\n",
    "import collections\n",
    "import itertools\n",
    "import numpy as np\n",
    "import lifelines\n",
    "\n",
    "from matplotlib import pyplot as plt\n",
    "\n",
    "import matplotlib_venn\n",
    "import seaborn\n",
    "seaborn.set_style('whitegrid')\n",
    "seaborn.set_palette('colorblind')\n",
    "\n",
    "%matplotlib inline"
   ]
  },
  {
   "cell_type": "code",
   "execution_count": 2,
   "metadata": {
    "collapsed": true
   },
   "outputs": [],
   "source": [
    "FIG_SIZE = (5, 3)"
   ]
  },
  {
   "cell_type": "code",
   "execution_count": 3,
   "metadata": {
    "collapsed": true
   },
   "outputs": [],
   "source": [
    "data = pandas.read_csv('../data/github-cran-150601.csv', index_col=0)\n",
    "\n",
    "data['Date'] = pandas.to_datetime(data['Date'])\n",
    "data['Dependencies'] = data['Dependencies'].map(lambda x: [] if pandas.isnull(x) else x.split(' '))\n",
    "\n",
    "data = data[['Package', 'Version', 'Date', 'InCRAN', 'InGitHub', 'Dependencies']]\n",
    "alldata = data.copy()"
   ]
  },
  {
   "cell_type": "code",
   "execution_count": 4,
   "metadata": {
    "collapsed": true
   },
   "outputs": [],
   "source": [
    "_github = data.query('InGitHub == 1')\n",
    "_cran = data.query('InCRAN == 1')\n",
    "\n",
    "_archived = pandas.read_csv('../data/cran-packages-150601.csv')\n",
    "_archived = _archived.query('archived == False').rename(columns={'package': 'Package'})\n",
    "\n",
    "_cran = _cran.merge(_archived[['Package']], how='inner', on=['Package'])\n",
    "data = pandas.concat([_github, _cran])"
   ]
  },
  {
   "cell_type": "code",
   "execution_count": 5,
   "metadata": {
    "collapsed": false
   },
   "outputs": [],
   "source": [
    "# README\n",
    "readme = pandas.read_csv('../data/readme.csv', index_col=0)"
   ]
  },
  {
   "cell_type": "code",
   "execution_count": 6,
   "metadata": {
    "collapsed": false
   },
   "outputs": [],
   "source": [
    "COLUMNS = ['install_github', 'install_packages']\n",
    "data_readme = readme[['Package'] + COLUMNS].replace('[]', pandas.np.nan)\n",
    "\n",
    "data_grep = pandas.DataFrame(index=data_readme['Package'])\n",
    "for column in COLUMNS:\n",
    "    _ = data_readme[['Package', column]].dropna().drop_duplicates().set_index('Package')\n",
    "    data_grep = data_grep.join(_)\n",
    "data_grep = data_grep.reset_index().drop_duplicates('Package').set_index('Package')"
   ]
  },
  {
   "cell_type": "code",
   "execution_count": 7,
   "metadata": {
    "collapsed": false
   },
   "outputs": [],
   "source": [
    "cran_packages = set(data.query('InCRAN == 1')['Package'])\n",
    "github_packages = set(data.query('InGitHub == 1')['Package'])\n",
    "both_packages = cran_packages.intersection(github_packages)\n",
    "\n",
    "def where_to_find(row):\n",
    "    if row['Package'] in both_packages:\n",
    "        return 'both'\n",
    "    elif row['Package'] in cran_packages:\n",
    "        return 'cran'\n",
    "    elif row['Package'] in github_packages:\n",
    "        return 'github'\n",
    "    else:\n",
    "        return 'error'\n",
    "\n",
    "packages = data.sort('Date').drop_duplicates(['Package', 'InCRAN'], take_last=True)\n",
    "packages['Where'] = packages.apply(where_to_find, axis=1)\n",
    "packages = packages.drop_duplicates('Package')"
   ]
  },
  {
   "cell_type": "code",
   "execution_count": 8,
   "metadata": {
    "collapsed": false
   },
   "outputs": [
    {
     "name": "stdout",
     "output_type": "stream",
     "text": [
      "6706 4512 910\n",
      "        Package  Version  Date  InCRAN  InGitHub  Dependencies\n",
      "Where                                                         \n",
      "both        910      910   910     910       910           910\n",
      "cran       5796     5796  5796    5796      5796          5796\n",
      "github     3602     3602  3602    3602      3602          3602\n"
     ]
    }
   ],
   "source": [
    "print len(cran_packages), len(github_packages), len(both_packages)\n",
    "print packages.groupby('Where').count()"
   ]
  },
  {
   "cell_type": "code",
   "execution_count": 9,
   "metadata": {
    "collapsed": false
   },
   "outputs": [],
   "source": [
    "df = packages.set_index('Package')[['Date', 'Where']].join(data_grep)\n",
    "df = df.query('Where != \"cran\"')\n",
    "df['how_to_gh'] = df['install_github'].notnull()\n",
    "df['how_to_cran'] = df['install_packages'].notnull()"
   ]
  },
  {
   "cell_type": "code",
   "execution_count": 15,
   "metadata": {
    "collapsed": false
   },
   "outputs": [
    {
     "name": "stdout",
     "output_type": "stream",
     "text": [
      "Where: both\n",
      "  Size: 910 (20.168%)\n",
      "  How-To GitHub: 409 (44.9%)\n",
      "  How-To CRAN: 332 (36.484%)\n",
      "  How-To both: 291 (31.978%)\n",
      "Where: github\n",
      "  Size: 3602 (79.832%)\n",
      "  How-To GitHub: 1438 (39.9%)\n",
      "  How-To CRAN: 793 (22.016%)\n",
      "  How-To both: 762 (21.155%)\n"
     ]
    }
   ],
   "source": [
    "for name, group in df.groupby('Where'):\n",
    "    print 'Where:', name\n",
    "    print '  Size: %d (%.3f%%)' % (len(group), len(group)*100.0 / len(df))\n",
    "    _gh = group.query('how_to_gh == True')\n",
    "    print '  How-To GitHub: %d (%.3f%%)' % (len(_gh), len(_gh) * 100.0 / len(group))\n",
    "    \n",
    "    _cran = group.query('how_to_cran == True')\n",
    "    print '  How-To CRAN: %d (%.3f%%)' % (len(_cran), len(_cran) * 100.0 / len(group))\n",
    "    \n",
    "    _both = group.query('how_to_cran == True and how_to_gh == True')\n",
    "    print '  How-To both: %d (%.3f%%)' % (len(_both), len(_both) * 100.0 / len(group))"
   ]
  },
  {
   "cell_type": "code",
   "execution_count": 11,
   "metadata": {
    "collapsed": false
   },
   "outputs": [
    {
     "name": "stdout",
     "output_type": "stream",
     "text": [
      "40.9352836879\n"
     ]
    }
   ],
   "source": [
    "print 100.0 * len(df.query('how_to_gh == True')) / len(df)"
   ]
  },
  {
   "cell_type": "code",
   "execution_count": 12,
   "metadata": {
    "collapsed": false
   },
   "outputs": [
    {
     "data": {
      "text/plain": [
       "<matplotlib.axes._subplots.AxesSubplot at 0x7f58aa188390>"
      ]
     },
     "execution_count": 12,
     "metadata": {},
     "output_type": "execute_result"
    },
    {
     "data": {
      "image/png": "[encoded data removed]",
      "text/plain": [
       "<matplotlib.figure.Figure at 0x7f58ab6bab90>"
      ]
     },
     "metadata": {},
     "output_type": "display_data"
    }
   ],
   "source": [
    "fig, ax = plt.subplots(figsize=FIG_SIZE)\n",
    "\n",
    "# Counts\n",
    "seaborn.countplot(hue='Where', x='how_to_gh', data=df, ax=ax)"
   ]
  },
  {
   "cell_type": "code",
   "execution_count": 13,
   "metadata": {
    "collapsed": false
   },
   "outputs": [
    {
     "data": {
      "text/plain": [
       "(0, 1000)"
      ]
     },
     "execution_count": 13,
     "metadata": {},
     "output_type": "execute_result"
    },
    {
     "data": {
      "image/png": "[encoded data removed]",
      "text/plain": [
       "<matplotlib.figure.Figure at 0x7f58aa650050>"
      ]
     },
     "metadata": {},
     "output_type": "display_data"
    }
   ],
   "source": [
    "df['age'] = (pandas.Timestamp('2015-06-01') - df['Date']).dt.days\n",
    "\n",
    "facet = seaborn.factorplot('how_to_gh', 'age', 'Where', data=df, kind='box')\n",
    "facet.fig.set_size_inches(FIG_SIZE)\n",
    "facet.ax.set_ylim(0,1000)"
   ]
  }
 ],
 "metadata": {
  "kernelspec": {
   "display_name": "Python 3",
   "language": "python",
   "name": "python3"
  },
  "language_info": {
   "codemirror_mode": {
    "name": "ipython",
    "version": 3
   },
   "file_extension": ".py",
   "mimetype": "text/x-python",
   "name": "python",
   "nbconvert_exporter": "python",
   "pygments_lexer": "ipython3",
   "version": "3.4.3"
  }
 },
 "nbformat": 4,
 "nbformat_minor": 0
}
