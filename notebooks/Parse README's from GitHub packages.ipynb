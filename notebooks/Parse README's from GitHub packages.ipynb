{
 "cells": [
  {
   "cell_type": "code",
   "execution_count": 1,
   "metadata": {
    "collapsed": false
   },
   "outputs": [],
   "source": [
    "import pandas\n",
    "import collections\n",
    "import itertools\n",
    "import re\n",
    "import os\n",
    "import glob"
   ]
  },
  {
   "cell_type": "code",
   "execution_count": 2,
   "metadata": {
    "collapsed": true
   },
   "outputs": [],
   "source": [
    "WORDS = ['CRAN', 'bioconductor', 'omegahat', 'github', 'rforge', 'r-forge',\n",
    "        'devtools', 'dependency', 'dependencies', 'installation', 'stable', \n",
    "        'development', 'stable version', 'development version', \n",
    "         'release', 'released version', 'to install', 'replication', 'replicat']\n",
    "\n",
    "REGEX = {\n",
    "    'install_github': re.compile(r'install_github\\(.+\\)'),\n",
    "    'install_packages': re.compile(r'install\\.packages\\((\\'|\"|)[A-Za-z0-9]+(\\'|\"|)\\)'),\n",
    "    #'install_packages_github': re.compile(r'install\\.packages\\(.+repos.+github.+\\)'),\n",
    "    'git_clone': re.compile(r'git clone.*\\n'),\n",
    "}\n",
    "\n",
    "PATH = '/data/github/'"
   ]
  },
  {
   "cell_type": "code",
   "execution_count": 3,
   "metadata": {
    "collapsed": false
   },
   "outputs": [],
   "source": [
    "github = pandas.read_csv('../data/github-cran-150601.csv', index_col=0)\n",
    "github = github.query('InGitHub == 1').sort_values(by='Date').drop_duplicates('Package', keep='last').set_index('Package')"
   ]
  },
  {
   "cell_type": "code",
   "execution_count": 4,
   "metadata": {
    "collapsed": false
   },
   "outputs": [],
   "source": [
    "repositories = pandas.read_csv('../data/github-raw-150601.csv')[['Package', 'Owner', 'Repository', 'CommitDate']]\n",
    "repositories = repositories.sort_values(by='CommitDate').drop_duplicates('Package', keep='last').set_index('Package')"
   ]
  },
  {
   "cell_type": "code",
   "execution_count": 5,
   "metadata": {
    "collapsed": false
   },
   "outputs": [],
   "source": [
    "candidates = repositories.join(github[[]], how='right')[['Owner', 'Repository']]"
   ]
  },
  {
   "cell_type": "code",
   "execution_count": 6,
   "metadata": {
    "collapsed": false
   },
   "outputs": [],
   "source": [
    "#candidates = candidates.reset_index().query('Package == \"ggplot2\"').set_index('Package')"
   ]
  },
  {
   "cell_type": "code",
   "execution_count": 7,
   "metadata": {
    "collapsed": false
   },
   "outputs": [
    {
     "name": "stdout",
     "output_type": "stream",
     "text": [
      "0\n",
      "500\n",
      "1000\n",
      "1500\n",
      "2000\n",
      "2500\n",
      "3000\n",
      "3500\n",
      "4000\n",
      "4500\n"
     ]
    }
   ],
   "source": [
    "data = []\n",
    "\n",
    "# Apply to each candidate package\n",
    "for i, (ix, row) in enumerate(candidates.iterrows()):\n",
    "    if i % 500 == 0:\n",
    "        print i\n",
    "    package, owner, repository = ix, row['Owner'], row['Repository']\n",
    "    path = os.path.join(PATH, owner, repository)\n",
    "    \n",
    "    # Get a list of every README* file\n",
    "    readmes = glob.glob(os.path.join(path, 'README*')) + glob.glob(os.path.join(path, 'readme*'))\n",
    "    \n",
    "    for readme in readmes:\n",
    "        if os.path.isdir(readme):\n",
    "            continue\n",
    "            \n",
    "        readme_data = {'Package': package, 'Readme': readme.rsplit('/',1)[-1]}\n",
    "        data.append(readme_data)\n",
    "        \n",
    "        with open(readme, 'r') as readme_file:\n",
    "            lines = readme_file.readlines()\n",
    "            readme_data['nb_lines'] = len(lines)\n",
    "            content = ''.join(lines)\n",
    "            readme_data['nb_chars'] = len(content)\n",
    "            \n",
    "            # Look for words\n",
    "            for word in WORDS:\n",
    "                readme_data[word] = word.lower() in content.lower()\n",
    "                    \n",
    "            # Look for regexes\n",
    "            for re_name, re_ex in REGEX.iteritems():\n",
    "                match_data = []\n",
    "                matches = re_ex.finditer(content)\n",
    "                for match in matches:\n",
    "                    match_data.append(match.group(0))  # Entire match\n",
    "                readme_data[re_name] = match_data     "
   ]
  },
  {
   "cell_type": "code",
   "execution_count": 8,
   "metadata": {
    "collapsed": false
   },
   "outputs": [],
   "source": [
    "pandas.DataFrame.from_dict(data).to_csv('../data/readme.csv')"
   ]
  }
 ],
 "metadata": {
  "kernelspec": {
   "display_name": "Python 2",
   "language": "python",
   "name": "python2"
  },
  "language_info": {
   "codemirror_mode": {
    "name": "ipython",
    "version": 2
   },
   "file_extension": ".py",
   "mimetype": "text/x-python",
   "name": "python",
   "nbconvert_exporter": "python",
   "pygments_lexer": "ipython2",
   "version": "2.7.6"
  }
 },
 "nbformat": 4,
 "nbformat_minor": 0
}
