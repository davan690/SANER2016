{
 "cells": [
  {
   "cell_type": "code",
   "execution_count": 1,
   "metadata": {
    "collapsed": true
   },
   "outputs": [],
   "source": [
    "import locale\n",
    "locale.setlocale(locale.LC_ALL,'en_US')\n",
    "\n",
    "import pandas\n",
    "import collections\n",
    "import itertools\n",
    "import numpy as np\n",
    "import lifelines\n",
    "\n",
    "from matplotlib import pyplot as plt\n",
    "\n",
    "import matplotlib_venn\n",
    "import seaborn\n",
    "seaborn.set_style('whitegrid')\n",
    "seaborn.set_palette('colorblind')\n",
    "\n",
    "%matplotlib inline"
   ]
  },
  {
   "cell_type": "code",
   "execution_count": 2,
   "metadata": {
    "collapsed": true
   },
   "outputs": [],
   "source": [
    "FIG_SIZE = (5, 3)"
   ]
  },
  {
   "cell_type": "code",
   "execution_count": 3,
   "metadata": {
    "collapsed": false
   },
   "outputs": [],
   "source": [
    "data = pandas.read_csv('../data/github-cran-150601.csv', index_col=0)\n",
    "\n",
    "data['Date'] = pandas.to_datetime(data['Date'])\n",
    "data['Dependencies'] = data['Dependencies'].map(lambda x: [] if pandas.isnull(x) else x.split(' '))\n",
    "\n",
    "data = data[['Package', 'Version', 'Date', 'InCRAN', 'InGitHub', 'Dependencies']]\n",
    "alldata = data.copy()"
   ]
  },
  {
   "cell_type": "code",
   "execution_count": 4,
   "metadata": {
    "collapsed": false
   },
   "outputs": [],
   "source": [
    "_github = data.query('InGitHub == 1')\n",
    "_cran = data.query('InCRAN == 1')\n",
    "\n",
    "_archived = pandas.read_csv('../data/cran-packages-150601.csv')\n",
    "_archived = _archived.query('archived == False').rename(columns={'package': 'Package'})\n",
    "\n",
    "_cran = _cran.merge(_archived[['Package']], how='inner', on=['Package'])\n",
    "data = pandas.concat([_github, _cran])"
   ]
  },
  {
   "cell_type": "code",
   "execution_count": 5,
   "metadata": {
    "collapsed": false
   },
   "outputs": [
    {
     "data": {
      "text/plain": [
       "(6706, 44459)"
      ]
     },
     "execution_count": 5,
     "metadata": {},
     "output_type": "execute_result"
    }
   ],
   "source": [
    "len(_cran.groupby('Package')), len(_cran)"
   ]
  },
  {
   "cell_type": "code",
   "execution_count": 6,
   "metadata": {
    "collapsed": false
   },
   "outputs": [],
   "source": [
    "trivial_pkg = set(('R MASS Matrix base boot class cluster codetools compiler datasets foreign grDevices ' +\n",
    "        'graphics grid lattice methods mgcv nlme nnet parallel rpart ' +\n",
    "        'spatial splines stats stats4 survival tcltk tools translations utils').split(' '))\n",
    "\n",
    "github_pkg = set(data.query('InGitHub == 1').drop_duplicates('Package')['Package'])\n",
    "cran_pkg = set(data.query('InCRAN == 1').drop_duplicates('Package')['Package'])"
   ]
  },
  {
   "cell_type": "code",
   "execution_count": 7,
   "metadata": {
    "collapsed": false
   },
   "outputs": [],
   "source": [
    "cran_required_by_cran = []\n",
    "cran_required_by_github = []\n",
    "\n",
    "tmp_df = pandas.DataFrame(index=data.index)\n",
    "tmp_df['RequireCRAN'] = 0\n",
    "tmp_df['RequireGitHub'] = 0\n",
    "tmp_df['RequireUnknown'] = 0\n",
    "\n",
    "for ix, row in data.iterrows():\n",
    "    for dep in row['Dependencies']:\n",
    "        if dep in trivial_pkg:\n",
    "            pass\n",
    "        else:\n",
    "            incran = dep in cran_pkg\n",
    "            ingithub = dep in github_pkg\n",
    "            \n",
    "            if incran:\n",
    "                tmp_df.loc[ix]['RequireCRAN'] += 1\n",
    "                if row['InGitHub'] == 1:\n",
    "                    cran_required_by_github.append(dep)\n",
    "                elif row['InCRAN'] == 1:\n",
    "                    cran_required_by_cran.append(dep)\n",
    "\n",
    "            if ingithub:\n",
    "                if not incran:\n",
    "                    tmp_df.loc[ix]['RequireGitHub'] += 1\n",
    "            \n",
    "            if not incran and not ingithub:\n",
    "                tmp_df.loc[ix]['RequireUnknown'] += 1\n",
    "                \n",
    "data = data.join(tmp_df)                \n",
    "\n",
    "cran_required_by_cran = collections.Counter(cran_required_by_cran)\n",
    "cran_required_by_github = collections.Counter(cran_required_by_github)"
   ]
  },
  {
   "cell_type": "markdown",
   "metadata": {},
   "source": [
    "## Overview"
   ]
  },
  {
   "cell_type": "code",
   "execution_count": 8,
   "metadata": {
    "collapsed": false
   },
   "outputs": [
    {
     "name": "stdout",
     "output_type": "stream",
     "text": [
      "49393 pairs CRAN package/version\n",
      "7871 CRAN packages\n",
      "6706 unarchived CRAN packages\n",
      "50368 pairs GH package/version\n",
      "4512 GH packages\n"
     ]
    }
   ],
   "source": [
    "print len(alldata.query('InCRAN == 1')), 'pairs CRAN package/version'\n",
    "print len(alldata.query('InCRAN == 1').drop_duplicates('Package')), 'CRAN packages'\n",
    "print len(data.query('InCRAN == 1').drop_duplicates('Package')), 'unarchived CRAN packages'\n",
    "\n",
    "print len(alldata.query('InGitHub == 1')), 'pairs GH package/version'\n",
    "print len(alldata.query('InGitHub == 1').drop_duplicates('Package')), 'GH packages'"
   ]
  },
  {
   "cell_type": "markdown",
   "metadata": {},
   "source": [
    "## New created packages on GitHub and CRAN"
   ]
  },
  {
   "cell_type": "code",
   "execution_count": 9,
   "metadata": {
    "collapsed": false
   },
   "outputs": [
    {
     "data": {
      "image/png": "[encoded data removed]",
      "text/plain": [
       "<matplotlib.figure.Figure at 0x7f4d940cb2d0>"
      ]
     },
     "metadata": {},
     "output_type": "display_data"
    }
   ],
   "source": [
    "fig, ax = plt.subplots()\n",
    "\n",
    "time_window = slice('2012', '2015-05-01')\n",
    "\n",
    "tmp = alldata.query('InCRAN == 1').sort('Date').drop_duplicates(['Package'])[['Date', 'InCRAN']].set_index('Date')\n",
    "tmp = tmp.rename(columns={'InCRAN': 'CRAN'})\n",
    "tmp.resample('1M', how='count')[time_window].plot(ax=ax)\n",
    "\n",
    "tmp = alldata.query('InGitHub == 1').sort('Date').drop_duplicates(['Package'])[['Date', 'InGitHub']].set_index('Date')\n",
    "tmp = tmp.rename(columns={'InGitHub': 'GitHub'})\n",
    "tmp.resample('1M', how='count')[time_window].plot(ax=ax)\n",
    "\n",
    "fig.set_size_inches(FIG_SIZE)\n",
    "#ax.set_title('Number of new R packages by month')\n",
    "ax.set_xlabel('')\n",
    "ax.set_ylabel('# packages')\n",
    "\n",
    "ax.annotate('Introduction of\\npackage namespace', xy=('2012-10-01', 300), xytext=('2013-04', 370), arrowprops=dict(shrink=0.05))\n",
    "\n",
    "plt.savefig('../figures/pkg_number_by_month.pdf', bbox_inches='tight')"
   ]
  },
  {
   "cell_type": "markdown",
   "metadata": {},
   "source": [
    "## Packages on GitHub and CRAN"
   ]
  },
  {
   "cell_type": "code",
   "execution_count": 10,
   "metadata": {
    "collapsed": false
   },
   "outputs": [
    {
     "data": {
      "image/png": "[encoded data removed]",
      "text/plain": [
       "<matplotlib.figure.Figure at 0x7f4d96563390>"
      ]
     },
     "metadata": {},
     "output_type": "display_data"
    }
   ],
   "source": [
    "fig, ax = plt.subplots()\n",
    "\n",
    "matplotlib_venn.venn2((cran_pkg, github_pkg), ('CRAN', 'GitHub'), set_colors=seaborn.color_palette(), ax=ax)\n",
    "\n",
    "fig.set_size_inches(FIG_SIZE)\n",
    "#ax.set_title('Number of R packages by source')\n",
    "\n",
    "plt.savefig('../figures/pkg_venn.pdf', bbox_inches='tight')"
   ]
  },
  {
   "cell_type": "markdown",
   "metadata": {},
   "source": [
    "## Time needed to be distributed on CRAN"
   ]
  },
  {
   "cell_type": "code",
   "execution_count": 11,
   "metadata": {
    "collapsed": false
   },
   "outputs": [],
   "source": [
    "github_date = alldata.query('InGitHub == 1').sort('Date').drop_duplicates('Package').set_index('Package')[['Date', 'InGitHub']]\n",
    "cran_date = alldata.query('InCRAN == 1').sort('Date').drop_duplicates('Package').set_index('Package')[['Date', 'InCRAN']]\n",
    "\n",
    "_f = lambda row: pandas.Timestamp('2015-06-01') - row['Date'] if pandas.isnull(row['Date_cran']) else row['Date_cran'] - row['Date']\n",
    "github_cran_date = github_date.join(cran_date, how='left', rsuffix='_cran')\n",
    "duration = github_cran_date.apply(_f, axis=1).dt.days\n",
    "observed = ~pandas.isnull(github_cran_date['Date_cran'])"
   ]
  },
  {
   "cell_type": "code",
   "execution_count": 12,
   "metadata": {
    "collapsed": false
   },
   "outputs": [
    {
     "data": {
      "image/png": "[encoded data removed]",
      "text/plain": [
       "<matplotlib.figure.Figure at 0x7f4d94e5f7d0>"
      ]
     },
     "metadata": {},
     "output_type": "display_data"
    }
   ],
   "source": [
    "fig, ax = plt.subplots()\n",
    "\n",
    "kmf = lifelines.KaplanMeierFitter()\n",
    "kmf.fit(duration, observed, label='packages')\n",
    "kmf.plot(ax=ax)\n",
    "\n",
    "fig.set_size_inches(FIG_SIZE)\n",
    "#ax.set_title('Time needed to distribute a GitHub package on CRAN ')\n",
    "ax.set_xlabel('delay (in days)')\n",
    "ax.set_ylabel('probability')\n",
    "ax.set_xlim(0, 1200)\n",
    "ax.set_ylim(0.5, 1)\n",
    "\n",
    "plt.savefig('../figures/joining_cran.pdf', bbox_inches='tight')"
   ]
  },
  {
   "cell_type": "code",
   "execution_count": 13,
   "metadata": {
    "collapsed": true
   },
   "outputs": [],
   "source": [
    "github_cran_date['age'] = (pandas.Timestamp('2015-06-01') - github_cran_date['Date']).dt.days"
   ]
  },
  {
   "cell_type": "code",
   "execution_count": 15,
   "metadata": {
    "collapsed": false
   },
   "outputs": [
    {
     "data": {
      "image/png": "[encoded data removed]",
      "text/plain": [
       "<matplotlib.figure.Figure at 0x7f4d946aa2d0>"
      ]
     },
     "metadata": {},
     "output_type": "display_data"
    }
   ],
   "source": [
    "fig, axes = plt.subplots(ncols=3, sharey=True)\n",
    "fig.set_size_inches(FIG_SIZE)\n",
    "#fig.suptitle('Distribution of the age of GitHub packages', y=1.05)\n",
    "\n",
    "\n",
    "tmp = github_cran_date.fillna({'InCRAN': 0})\n",
    "\n",
    "map(lambda x: x[0].set_title(x[1]), zip(axes, ['also on CRAN', 'not on CRAN', 'both']))\n",
    "seaborn.violinplot(data=tmp.query('InCRAN == 1'), y='age', ax=axes[0])\n",
    "seaborn.violinplot(data=tmp.query('InCRAN == 0'), y='age', ax=axes[1])\n",
    "seaborn.violinplot(data=tmp, y='age', ax=axes[2])\n",
    "\n",
    "axes[0].set_ylim(0, 2000)\n",
    "axes[0].set_ylabel('age (in days)')\n",
    "map(lambda x: x.set_ylabel(''), axes[1:])\n",
    "\n",
    "plt.savefig('../figures/age_github.pdf', bbox_inches='tight')"
   ]
  },
  {
   "cell_type": "code",
   "execution_count": 14,
   "metadata": {
    "collapsed": false
   },
   "outputs": [
    {
     "data": {
      "text/plain": [
       "MannwhitneyuResult(statistic=945643.5, pvalue=3.822243315801625e-95)"
      ]
     },
     "execution_count": 14,
     "metadata": {},
     "output_type": "execute_result"
    }
   ],
   "source": [
    "from scipy.stats import mannwhitneyu\n",
    "\n",
    "mannwhitneyu(tmp.query('InCRAN == 0')['age'], tmp.query('InCRAN == 1')['age'])"
   ]
  },
  {
   "cell_type": "code",
   "execution_count": 15,
   "metadata": {
    "collapsed": false
   },
   "outputs": [
    {
     "name": "stdout",
     "output_type": "stream",
     "text": [
      "       InGitHub       InCRAN          age\n",
      "count      4512  4512.000000  4512.000000\n",
      "mean          1     0.208555   352.317154\n",
      "std           0     0.406321   454.538486\n",
      "min           1     0.000000     0.000000\n",
      "25%           1     0.000000    78.000000\n",
      "50%           1     0.000000   179.000000\n",
      "75%           1     0.000000   440.250000\n",
      "max           1     1.000000  3484.000000\n",
      "       InGitHub  InCRAN          age\n",
      "count       941     941   941.000000\n",
      "mean          1       1   646.484591\n",
      "std           0       0   644.291926\n",
      "min           1       1     3.000000\n",
      "25%           1       1   172.000000\n",
      "50%           1       1   448.000000\n",
      "75%           1       1   842.000000\n",
      "max           1       1  3243.000000\n",
      "       InGitHub  InCRAN          age\n",
      "count      3571    3571  3571.000000\n",
      "mean          1       0   274.800616\n",
      "std           0       0   350.631458\n",
      "min           1       0     0.000000\n",
      "25%           1       0    69.000000\n",
      "50%           1       0   143.000000\n",
      "75%           1       0   353.000000\n",
      "max           1       0  3484.000000\n"
     ]
    }
   ],
   "source": [
    "print tmp.describe()\n",
    "print tmp.query('InCRAN == 1').describe()\n",
    "print tmp.query('InCRAN == 0').describe()"
   ]
  },
  {
   "cell_type": "code",
   "execution_count": 16,
   "metadata": {
    "collapsed": false
   },
   "outputs": [
    {
     "name": "stdout",
     "output_type": "stream",
     "text": [
      "Median age for distibuted packages: 448.0\n",
      "       InGitHub  InCRAN          age\n",
      "count       636     636   636.000000\n",
      "mean          1       0   859.393082\n",
      "std           0       0   461.373434\n",
      "min           1       0   448.000000\n",
      "25%           1       0   541.000000\n",
      "50%           1       0   709.000000\n",
      "75%           1       0   995.250000\n",
      "max           1       0  3484.000000\n",
      "       InGitHub       InCRAN          age\n",
      "count      1107  1107.000000  1107.000000\n",
      "mean          1     0.425474   960.178862\n",
      "std           0     0.494638   556.484053\n",
      "min           1     0.000000   448.000000\n",
      "25%           1     0.000000   566.000000\n",
      "50%           1     0.000000   757.000000\n",
      "75%           1     1.000000  1173.000000\n",
      "max           1     1.000000  3484.000000\n"
     ]
    }
   ],
   "source": [
    "median = github_cran_date.fillna(0).query('InCRAN == 1')['age'].median()\n",
    "print 'Median age for distibuted packages:', median\n",
    "\n",
    "print github_cran_date.fillna(0).query('InCRAN == 0 and age >= %f' % median).describe()\n",
    "print github_cran_date.fillna(0).query('age >= %f' % median).describe()"
   ]
  },
  {
   "cell_type": "markdown",
   "metadata": {},
   "source": [
    "## Sources needed to install packages"
   ]
  },
  {
   "cell_type": "code",
   "execution_count": 17,
   "metadata": {
    "collapsed": false
   },
   "outputs": [],
   "source": [
    "targets = ['RequireCRAN', 'RequireGitHub', 'RequireUnknown', 'RequireGitHub_or_Unknown']\n",
    "\n",
    "data['NRequired'] = data['RequireCRAN'] + data['RequireGitHub'] + data['RequireUnknown']\n",
    "data['RequireGitHub_or_Unknown'] = data['RequireGitHub'] + data['RequireUnknown']\n",
    "\n",
    "tmp = collections.OrderedDict()\n",
    "tmp['CRAN'] = data.query('InCRAN == 1').sort('Date').drop_duplicates('Package', take_last=True)\n",
    "tmp['GitHub'] = data.query('InGitHub == 1').sort('Date').drop_duplicates('Package', take_last=True)\n",
    "tmp['GitHub excl.'] = tmp['GitHub'].merge(tmp['CRAN'], how='left', on='Package', suffixes=('', '_cran'))[['Package', 'NRequired', 'InCRAN_cran'] + targets].query('InCRAN_cran != 1')\n",
    "\n",
    "required_sources = pandas.DataFrame(index=tmp.keys(), columns=targets + [t + '_p' for t in targets])\n",
    "dependencies_sources = pandas.DataFrame(index=required_sources.index, columns=required_sources.columns)\n",
    "\n",
    "for source, df in tmp.iteritems():\n",
    "    n1 = len(df)\n",
    "    for target in targets:\n",
    "        n2 = len(df.query(target+' > 0'))\n",
    "        required_sources.loc[source][target] = n2\n",
    "        required_sources.loc[source][target + '_p'] = 1.0 * n2 / n1\n",
    "        \n",
    "        dependencies_sources.loc[source][target] = df[target].sum()\n",
    "        dependencies_sources.loc[source][target + '_p'] = 1.0 * df[target].sum() / df['NRequired'].sum()"
   ]
  },
  {
   "cell_type": "code",
   "execution_count": 18,
   "metadata": {
    "collapsed": false
   },
   "outputs": [
    {
     "data": {
      "text/html": [
       "<div>\n",
       "<table border=\"1\" class=\"dataframe\">\n",
       "  <thead>\n",
       "    <tr style=\"text-align: right;\">\n",
       "      <th></th>\n",
       "      <th>RequireCRAN</th>\n",
       "      <th>RequireGitHub</th>\n",
       "      <th>RequireUnknown</th>\n",
       "      <th>RequireGitHub_or_Unknown</th>\n",
       "      <th>RequireCRAN_p</th>\n",
       "      <th>RequireGitHub_p</th>\n",
       "      <th>RequireUnknown_p</th>\n",
       "      <th>RequireGitHub_or_Unknown_p</th>\n",
       "    </tr>\n",
       "  </thead>\n",
       "  <tbody>\n",
       "    <tr>\n",
       "      <th>CRAN</th>\n",
       "      <td>4122</td>\n",
       "      <td>52</td>\n",
       "      <td>121</td>\n",
       "      <td>141</td>\n",
       "      <td>0.6146734</td>\n",
       "      <td>0.00775425</td>\n",
       "      <td>0.01804354</td>\n",
       "      <td>0.02102595</td>\n",
       "    </tr>\n",
       "    <tr>\n",
       "      <th>GitHub</th>\n",
       "      <td>3187</td>\n",
       "      <td>388</td>\n",
       "      <td>534</td>\n",
       "      <td>767</td>\n",
       "      <td>0.7063387</td>\n",
       "      <td>0.08599291</td>\n",
       "      <td>0.1183511</td>\n",
       "      <td>0.1699911</td>\n",
       "    </tr>\n",
       "    <tr>\n",
       "      <th>GitHub excl.</th>\n",
       "      <td>2498</td>\n",
       "      <td>382</td>\n",
       "      <td>519</td>\n",
       "      <td>748</td>\n",
       "      <td>0.6935036</td>\n",
       "      <td>0.1060522</td>\n",
       "      <td>0.1440866</td>\n",
       "      <td>0.2076624</td>\n",
       "    </tr>\n",
       "  </tbody>\n",
       "</table>\n",
       "</div>"
      ],
      "text/plain": [
       "             RequireCRAN RequireGitHub RequireUnknown  \\\n",
       "CRAN                4122            52            121   \n",
       "GitHub              3187           388            534   \n",
       "GitHub excl.        2498           382            519   \n",
       "\n",
       "             RequireGitHub_or_Unknown RequireCRAN_p RequireGitHub_p  \\\n",
       "CRAN                              141     0.6146734      0.00775425   \n",
       "GitHub                            767     0.7063387      0.08599291   \n",
       "GitHub excl.                      748     0.6935036       0.1060522   \n",
       "\n",
       "             RequireUnknown_p RequireGitHub_or_Unknown_p  \n",
       "CRAN               0.01804354                 0.02102595  \n",
       "GitHub              0.1183511                  0.1699911  \n",
       "GitHub excl.        0.1440866                  0.2076624  "
      ]
     },
     "execution_count": 18,
     "metadata": {},
     "output_type": "execute_result"
    },
    {
     "data": {
      "image/png": "[encoded data removed]",
      "text/plain": [
       "<matplotlib.figure.Figure at 0x7fd88cae9650>"
      ]
     },
     "metadata": {},
     "output_type": "display_data"
    }
   ],
   "source": [
    "fig, ax = plt.subplots()\n",
    "\n",
    "\n",
    "_ = required_sources[[t+'_p' for t in targets]].rename(columns={t+'_p': t[7:].replace('_', ' ') for t in targets})\n",
    "_.plot(kind='bar', stacked=False, ax=ax)\n",
    "\n",
    "fig.set_size_inches(FIG_SIZE)\n",
    "#ax.set_title('Proportion of packages with a dependency in given source')\n",
    "ax.legend(title='Dependency source', loc='upper center', ncol=2)\n",
    "ax.set_xticklabels([s + ' pkg.' for s in required_sources.index], rotation=0)\n",
    "ax.set_ylim(top=1)\n",
    "\n",
    "#ax.annotate('Satisfied by\\nBioConductor', xy=(0.2, 0.05), xytext=(0.25, 0.25), arrowprops=dict(shrink=0.05))\n",
    "\n",
    "plt.savefig('../figures/deps-bypkg.pdf', bbox_inches='tight')\n",
    "\n",
    "required_sources"
   ]
  },
  {
   "cell_type": "code",
   "execution_count": 19,
   "metadata": {
    "collapsed": false
   },
   "outputs": [
    {
     "data": {
      "text/html": [
       "<div>\n",
       "<table border=\"1\" class=\"dataframe\">\n",
       "  <thead>\n",
       "    <tr style=\"text-align: right;\">\n",
       "      <th></th>\n",
       "      <th>RequireCRAN</th>\n",
       "      <th>RequireGitHub</th>\n",
       "      <th>RequireUnknown</th>\n",
       "      <th>RequireGitHub_or_Unknown</th>\n",
       "      <th>RequireCRAN_p</th>\n",
       "      <th>RequireGitHub_p</th>\n",
       "      <th>RequireUnknown_p</th>\n",
       "      <th>RequireGitHub_or_Unknown_p</th>\n",
       "    </tr>\n",
       "  </thead>\n",
       "  <tbody>\n",
       "    <tr>\n",
       "      <th>CRAN</th>\n",
       "      <td>11265</td>\n",
       "      <td>55</td>\n",
       "      <td>177</td>\n",
       "      <td>232</td>\n",
       "      <td>0.9798208</td>\n",
       "      <td>0.004783857</td>\n",
       "      <td>0.01539532</td>\n",
       "      <td>0.02017918</td>\n",
       "    </tr>\n",
       "    <tr>\n",
       "      <th>GitHub</th>\n",
       "      <td>11559</td>\n",
       "      <td>546</td>\n",
       "      <td>1441</td>\n",
       "      <td>1987</td>\n",
       "      <td>0.8533146</td>\n",
       "      <td>0.0403071</td>\n",
       "      <td>0.1063783</td>\n",
       "      <td>0.1466854</td>\n",
       "    </tr>\n",
       "    <tr>\n",
       "      <th>GitHub excl.</th>\n",
       "      <td>8935</td>\n",
       "      <td>540</td>\n",
       "      <td>1424</td>\n",
       "      <td>1964</td>\n",
       "      <td>0.8198</td>\n",
       "      <td>0.04954583</td>\n",
       "      <td>0.1306542</td>\n",
       "      <td>0.1802</td>\n",
       "    </tr>\n",
       "  </tbody>\n",
       "</table>\n",
       "</div>"
      ],
      "text/plain": [
       "             RequireCRAN RequireGitHub RequireUnknown  \\\n",
       "CRAN               11265            55            177   \n",
       "GitHub             11559           546           1441   \n",
       "GitHub excl.        8935           540           1424   \n",
       "\n",
       "             RequireGitHub_or_Unknown RequireCRAN_p RequireGitHub_p  \\\n",
       "CRAN                              232     0.9798208     0.004783857   \n",
       "GitHub                           1987     0.8533146       0.0403071   \n",
       "GitHub excl.                     1964        0.8198      0.04954583   \n",
       "\n",
       "             RequireUnknown_p RequireGitHub_or_Unknown_p  \n",
       "CRAN               0.01539532                 0.02017918  \n",
       "GitHub              0.1063783                  0.1466854  \n",
       "GitHub excl.        0.1306542                     0.1802  "
      ]
     },
     "execution_count": 19,
     "metadata": {},
     "output_type": "execute_result"
    },
    {
     "data": {
      "image/png": "[encoded data removed]",
      "text/plain": [
       "<matplotlib.figure.Figure at 0x7fd88c9cdb10>"
      ]
     },
     "metadata": {},
     "output_type": "display_data"
    }
   ],
   "source": [
    "fig, ax = plt.subplots()\n",
    "\n",
    "\n",
    "_ = dependencies_sources[[t+'_p' for t in targets]].rename(columns={t+'_p': t[7:].replace('_', ' ') for t in targets})\n",
    "_.plot(kind='bar', stacked=False, ax=ax)\n",
    "\n",
    "fig.set_size_inches(FIG_SIZE)\n",
    "ax.set_title('Proportion of dependencies satisfied by given source')\n",
    "ax.legend(title='Satisfied by', loc='best', ncol=2)\n",
    "ax.set_xticklabels([s + ' pkg.' for s in dependencies_sources.index], rotation=0)\n",
    "\n",
    "#ax.annotate('Satisfied by\\nBioConductor', xy=(0.2, 0.05), xytext=(0.25, 0.25), arrowprops=dict(shrink=0.05))\n",
    "\n",
    "plt.savefig('../figures/deps-bydeps.pdf', bbox_inches='tight')\n",
    "\n",
    "dependencies_sources"
   ]
  },
  {
   "cell_type": "code",
   "execution_count": 20,
   "metadata": {
    "collapsed": false
   },
   "outputs": [
    {
     "data": {
      "text/plain": [
       "{'CRAN': {'CRAN': {'dep': 11265,\n",
       "   'dep_p': 0.9798208228233453,\n",
       "   'pkg': 4122,\n",
       "   'pkg_p': 0.6146734267819863},\n",
       "  'GitHub': {'dep': 55,\n",
       "   'dep_p': 0.004783856658258676,\n",
       "   'pkg': 52,\n",
       "   'pkg_p': 0.007754249925439905},\n",
       "  'Unknown': {'dep': 177,\n",
       "   'dep_p': 0.015395320518396103,\n",
       "   'pkg': 121,\n",
       "   'pkg_p': 0.01804354309573516}},\n",
       " 'GitHub': {'CRAN': {'dep': 11559,\n",
       "   'dep_p': 0.8533146316255721,\n",
       "   'pkg': 3187,\n",
       "   'pkg_p': 0.7063386524822695},\n",
       "  'GitHub': {'dep': 546,\n",
       "   'dep_p': 0.04030710172744722,\n",
       "   'pkg': 388,\n",
       "   'pkg_p': 0.08599290780141844},\n",
       "  'Unknown': {'dep': 1441,\n",
       "   'dep_p': 0.10637826664698066,\n",
       "   'pkg': 534,\n",
       "   'pkg_p': 0.11835106382978723}}}"
      ]
     },
     "execution_count": 20,
     "metadata": {},
     "output_type": "execute_result"
    }
   ],
   "source": [
    "sources = ['CRAN', 'GitHub', 'Unknown']\n",
    "graph = {source_a: {source_b: {'pkg': None, 'dep': None} for source_b in sources} for source_a in sources[:2]}\n",
    "\n",
    "for source_a in sources[:2]: \n",
    "    for source_b in sources:\n",
    "        A, B = source_a, 'Require%s' % source_b\n",
    "        graph[source_a][source_b]['pkg'] = required_sources.loc[A][B]\n",
    "        graph[source_a][source_b]['pkg_p'] = required_sources.loc[A][B+'_p']\n",
    "        graph[source_a][source_b]['dep'] = dependencies_sources.loc[A][B]\n",
    "        graph[source_a][source_b]['dep_p'] = dependencies_sources.loc[A][B+'_p']\n",
    "        \n",
    "graph"
   ]
  },
  {
   "cell_type": "markdown",
   "metadata": {},
   "source": [
    "## Required packages"
   ]
  },
  {
   "cell_type": "code",
   "execution_count": 21,
   "metadata": {
    "collapsed": false
   },
   "outputs": [
    {
     "data": {
      "image/png": "[encoded data removed]",
      "text/plain": [
       "<matplotlib.figure.Figure at 0x7fd88de40890>"
      ]
     },
     "metadata": {},
     "output_type": "display_data"
    }
   ],
   "source": [
    "fig, ax = plt.subplots()\n",
    "\n",
    "matplotlib_venn.venn2((set(cran_required_by_cran), set(cran_required_by_github)), ('CRAN', 'GitHub'), set_colors=seaborn.color_palette(), ax=ax)\n",
    "\n",
    "fig.set_size_inches(FIG_SIZE)\n",
    "#ax.set_title('Required CRAN packages by source')\n",
    "\n",
    "plt.savefig('../figures/required.pdf', bbox_inches='tight')"
   ]
  },
  {
   "cell_type": "code",
   "execution_count": 22,
   "metadata": {
    "collapsed": false
   },
   "outputs": [
    {
     "data": {
      "text/plain": [
       "\"\\nprint 'CRAN packages required by CRAN packages'\\nprint ','.join(cran_required_by_cran)\\nprint\\nprint 'CRAN packages required by GitHub packages'\\nprint ','.join(cran_required_by_github)\\n\""
      ]
     },
     "execution_count": 22,
     "metadata": {},
     "output_type": "execute_result"
    }
   ],
   "source": [
    "\"\"\"\n",
    "print 'CRAN packages required by CRAN packages'\n",
    "print ','.join(cran_required_by_cran)\n",
    "print\n",
    "print 'CRAN packages required by GitHub packages'\n",
    "print ','.join(cran_required_by_github)\n",
    "\"\"\""
   ]
  },
  {
   "cell_type": "code",
   "execution_count": 23,
   "metadata": {
    "collapsed": false
   },
   "outputs": [
    {
     "name": "stdout",
     "output_type": "stream",
     "text": [
      "1064 with Travis\n"
     ]
    }
   ],
   "source": [
    "data_travis = pandas.read_csv('../data/r-travis.csv')[['owner', 'repository']].drop_duplicates()\n",
    "github_repo = pandas.read_csv('../data/github-raw-150601.csv')[['Owner','Repository', 'Package']].drop_duplicates()\n",
    "\n",
    "data_travis = data_travis.rename(columns={'owner': 'Owner', 'repository': 'Repository'})\n",
    "\n",
    "tmp = data_travis.merge(github_repo, on=['Owner', 'Repository'])\n",
    "print len(data.query('InGitHub == 1')[['Package']].merge(tmp, on='Package').drop_duplicates()),'with Travis'"
   ]
  },
  {
   "cell_type": "markdown",
   "metadata": {},
   "source": [
    "### Update frequency"
   ]
  },
  {
   "cell_type": "code",
   "execution_count": 24,
   "metadata": {
    "collapsed": false
   },
   "outputs": [],
   "source": [
    "data_required = data.query('InCRAN > 0').copy()[['Package', 'Version', 'Date']]\n",
    "data_required['RequiredByCRAN'] = data_required['Package'].isin(cran_required_by_cran)\n",
    "data_required['RequiredByGitHub'] = data_required['Package'].isin(cran_required_by_github)\n",
    "\n",
    "label = lambda row: 'Both' if row['RequiredByCRAN'] and row['RequiredByGitHub'] else ('CRAN only' if row['RequiredByCRAN'] else ('GitHub only' if row['RequiredByGitHub'] else 'None'))\n",
    "data_required['RequiredBy'] = data_required.apply(label, axis=1)\n",
    "\n",
    "def package_updates(dataframe, right_censor):\n",
    "    \"\"\"\n",
    "    Return a DataFrame ix -> {duration:x, observed: y}. \n",
    "    Given dataframe must concern only ONE package.\n",
    "    \"\"\"\n",
    "    censor_date = pandas.Timestamp(right_censor)\n",
    "    \n",
    "    shifted = dataframe.sort('Date')['Date'].shift(-1)\n",
    "    dataframe['Observed'] = pandas.notnull(shifted)\n",
    "    dataframe['Duration'] = shifted.where(dataframe['Observed'], censor_date) - dataframe['Date']\n",
    "        \n",
    "    return dataframe"
   ]
  },
  {
   "cell_type": "code",
   "execution_count": 25,
   "metadata": {
    "collapsed": false
   },
   "outputs": [
    {
     "name": "stdout",
     "output_type": "stream",
     "text": [
      "3740\n"
     ]
    }
   ],
   "source": [
    "window = slice('2014-12-01 00:00:00', '2015-06-01 00:00:00')\n",
    "\n",
    "data_updates = data_required.set_index('Date')[window].reset_index()\n",
    "data_updates = data_updates.groupby('Package').apply(package_updates, right_censor=window.stop)\n",
    "print len(data_updates)"
   ]
  },
  {
   "cell_type": "code",
   "execution_count": 26,
   "metadata": {
    "collapsed": false
   },
   "outputs": [
    {
     "data": {
      "image/png": "[encoded data removed]",
      "text/plain": [
       "<matplotlib.figure.Figure at 0x7fd88c809d10>"
      ]
     },
     "metadata": {},
     "output_type": "display_data"
    }
   ],
   "source": [
    "fig, ax = plt.subplots()\n",
    "\n",
    "data_kmf = pandas.DataFrame()\n",
    "\n",
    "for name, group in data_updates.groupby('RequiredBy'):    \n",
    "    kmf = lifelines.KaplanMeierFitter()\n",
    "    kmf.fit(group['Duration'].dt.days, group['Observed'], label=name)\n",
    "    data_kmf = pandas.concat([data_kmf, kmf.survival_function_], axis=1)\n",
    "    kmf.plot(ax=ax, ci_show=False)\n",
    "\n",
    "fig.set_size_inches(FIG_SIZE)\n",
    "ax.set_xlabel('delay (in days)')\n",
    "ax.set_ylabel('probability')\n",
    "\n",
    "#ax.set_title('CRAN package is not updated')\n",
    "ax.legend(title='Required by', loc='lower left')\n",
    "\n",
    "plt.savefig('../figures/updated_packages.pdf', bbox_inches='tight')"
   ]
  },
  {
   "cell_type": "code",
   "execution_count": 50,
   "metadata": {
    "collapsed": false
   },
   "outputs": [
    {
     "data": {
      "text/html": [
       "<div>\n",
       "<table border=\"1\" class=\"dataframe\">\n",
       "  <thead>\n",
       "    <tr style=\"text-align: right;\">\n",
       "      <th></th>\n",
       "      <th>Both</th>\n",
       "      <th>CRAN</th>\n",
       "      <th>GitHub</th>\n",
       "      <th>None</th>\n",
       "      <th>GH_at_least</th>\n",
       "      <th>Other</th>\n",
       "    </tr>\n",
       "    <tr>\n",
       "      <th>timeline</th>\n",
       "      <th></th>\n",
       "      <th></th>\n",
       "      <th></th>\n",
       "      <th></th>\n",
       "      <th></th>\n",
       "      <th></th>\n",
       "    </tr>\n",
       "  </thead>\n",
       "  <tbody>\n",
       "    <tr>\n",
       "      <th>25</th>\n",
       "      <td>0.837746</td>\n",
       "      <td>0.861536</td>\n",
       "      <td>0.851502</td>\n",
       "      <td>0.855942</td>\n",
       "      <td>0.851502</td>\n",
       "      <td>0.855942</td>\n",
       "    </tr>\n",
       "    <tr>\n",
       "      <th>26</th>\n",
       "      <td>0.836208</td>\n",
       "      <td>0.858157</td>\n",
       "      <td>0.851502</td>\n",
       "      <td>0.853081</td>\n",
       "      <td>0.851502</td>\n",
       "      <td>0.853081</td>\n",
       "    </tr>\n",
       "    <tr>\n",
       "      <th>29</th>\n",
       "      <td>0.820554</td>\n",
       "      <td>0.841116</td>\n",
       "      <td>NaN</td>\n",
       "      <td>0.838029</td>\n",
       "      <td>0.820554</td>\n",
       "      <td>0.838029</td>\n",
       "    </tr>\n",
       "    <tr>\n",
       "      <th>36</th>\n",
       "      <td>0.779918</td>\n",
       "      <td>0.819468</td>\n",
       "      <td>0.807639</td>\n",
       "      <td>0.813176</td>\n",
       "      <td>0.807639</td>\n",
       "      <td>0.813176</td>\n",
       "    </tr>\n",
       "    <tr>\n",
       "      <th>37</th>\n",
       "      <td>0.779918</td>\n",
       "      <td>0.815709</td>\n",
       "      <td>0.802745</td>\n",
       "      <td>0.811619</td>\n",
       "      <td>0.802745</td>\n",
       "      <td>0.811619</td>\n",
       "    </tr>\n",
       "    <tr>\n",
       "      <th>38</th>\n",
       "      <td>0.774908</td>\n",
       "      <td>0.808191</td>\n",
       "      <td>0.792955</td>\n",
       "      <td>0.809016</td>\n",
       "      <td>0.792955</td>\n",
       "      <td>0.808191</td>\n",
       "    </tr>\n",
       "    <tr>\n",
       "      <th>39</th>\n",
       "      <td>0.768213</td>\n",
       "      <td>0.804397</td>\n",
       "      <td>0.788060</td>\n",
       "      <td>0.805888</td>\n",
       "      <td>0.788060</td>\n",
       "      <td>0.804397</td>\n",
       "    </tr>\n",
       "    <tr>\n",
       "      <th>40</th>\n",
       "      <td>0.764829</td>\n",
       "      <td>0.800584</td>\n",
       "      <td>0.782976</td>\n",
       "      <td>0.802736</td>\n",
       "      <td>0.782976</td>\n",
       "      <td>0.800584</td>\n",
       "    </tr>\n",
       "    <tr>\n",
       "      <th>41</th>\n",
       "      <td>0.756216</td>\n",
       "      <td>NaN</td>\n",
       "      <td>0.777791</td>\n",
       "      <td>0.799027</td>\n",
       "      <td>0.777791</td>\n",
       "      <td>0.799027</td>\n",
       "    </tr>\n",
       "    <tr>\n",
       "      <th>42</th>\n",
       "      <td>0.752739</td>\n",
       "      <td>0.796754</td>\n",
       "      <td>0.772500</td>\n",
       "      <td>0.793657</td>\n",
       "      <td>0.772500</td>\n",
       "      <td>0.793657</td>\n",
       "    </tr>\n",
       "    <tr>\n",
       "      <th>43</th>\n",
       "      <td>0.744007</td>\n",
       "      <td>0.792886</td>\n",
       "      <td>0.761844</td>\n",
       "      <td>0.790956</td>\n",
       "      <td>0.761844</td>\n",
       "      <td>0.790956</td>\n",
       "    </tr>\n",
       "    <tr>\n",
       "      <th>44</th>\n",
       "      <td>0.742252</td>\n",
       "      <td>0.785113</td>\n",
       "      <td>0.756479</td>\n",
       "      <td>0.788227</td>\n",
       "      <td>0.756479</td>\n",
       "      <td>0.785113</td>\n",
       "    </tr>\n",
       "    <tr>\n",
       "      <th>45</th>\n",
       "      <td>0.733478</td>\n",
       "      <td>0.781226</td>\n",
       "      <td>0.745749</td>\n",
       "      <td>0.784945</td>\n",
       "      <td>0.745749</td>\n",
       "      <td>0.781226</td>\n",
       "    </tr>\n",
       "    <tr>\n",
       "      <th>46</th>\n",
       "      <td>0.729952</td>\n",
       "      <td>0.781226</td>\n",
       "      <td>0.745749</td>\n",
       "      <td>0.781628</td>\n",
       "      <td>0.745749</td>\n",
       "      <td>0.781226</td>\n",
       "    </tr>\n",
       "    <tr>\n",
       "      <th>47</th>\n",
       "      <td>0.722848</td>\n",
       "      <td>NaN</td>\n",
       "      <td>0.734782</td>\n",
       "      <td>0.776596</td>\n",
       "      <td>0.734782</td>\n",
       "      <td>0.776596</td>\n",
       "    </tr>\n",
       "    <tr>\n",
       "      <th>48</th>\n",
       "      <td>0.713790</td>\n",
       "      <td>0.777300</td>\n",
       "      <td>0.718332</td>\n",
       "      <td>0.772660</td>\n",
       "      <td>0.718332</td>\n",
       "      <td>0.772660</td>\n",
       "    </tr>\n",
       "    <tr>\n",
       "      <th>49</th>\n",
       "      <td>0.710129</td>\n",
       "      <td>NaN</td>\n",
       "      <td>0.707281</td>\n",
       "      <td>0.769823</td>\n",
       "      <td>0.710129</td>\n",
       "      <td>0.769823</td>\n",
       "    </tr>\n",
       "    <tr>\n",
       "      <th>50</th>\n",
       "      <td>0.700954</td>\n",
       "      <td>0.777300</td>\n",
       "      <td>0.701755</td>\n",
       "      <td>0.768684</td>\n",
       "      <td>0.701755</td>\n",
       "      <td>0.768684</td>\n",
       "    </tr>\n",
       "    <tr>\n",
       "      <th>51</th>\n",
       "      <td>0.699105</td>\n",
       "      <td>0.777300</td>\n",
       "      <td>0.701755</td>\n",
       "      <td>0.767540</td>\n",
       "      <td>0.701755</td>\n",
       "      <td>0.767540</td>\n",
       "    </tr>\n",
       "    <tr>\n",
       "      <th>52</th>\n",
       "      <td>0.695396</td>\n",
       "      <td>0.773294</td>\n",
       "      <td>0.701755</td>\n",
       "      <td>0.761773</td>\n",
       "      <td>0.701755</td>\n",
       "      <td>0.761773</td>\n",
       "    </tr>\n",
       "    <tr>\n",
       "      <th>53</th>\n",
       "      <td>0.687939</td>\n",
       "      <td>0.773294</td>\n",
       "      <td>0.696096</td>\n",
       "      <td>0.758303</td>\n",
       "      <td>0.696096</td>\n",
       "      <td>0.758303</td>\n",
       "    </tr>\n",
       "    <tr>\n",
       "      <th>54</th>\n",
       "      <td>0.682300</td>\n",
       "      <td>0.773294</td>\n",
       "      <td>0.684777</td>\n",
       "      <td>0.755964</td>\n",
       "      <td>0.684777</td>\n",
       "      <td>0.755964</td>\n",
       "    </tr>\n",
       "    <tr>\n",
       "      <th>55</th>\n",
       "      <td>0.676582</td>\n",
       "      <td>0.769158</td>\n",
       "      <td>0.678974</td>\n",
       "      <td>0.754206</td>\n",
       "      <td>0.678974</td>\n",
       "      <td>0.754206</td>\n",
       "    </tr>\n",
       "    <tr>\n",
       "      <th>56</th>\n",
       "      <td>0.668937</td>\n",
       "      <td>0.760843</td>\n",
       "      <td>0.678974</td>\n",
       "      <td>0.748919</td>\n",
       "      <td>0.678974</td>\n",
       "      <td>0.748919</td>\n",
       "    </tr>\n",
       "    <tr>\n",
       "      <th>57</th>\n",
       "      <td>0.665115</td>\n",
       "      <td>0.756685</td>\n",
       "      <td>NaN</td>\n",
       "      <td>0.745387</td>\n",
       "      <td>0.665115</td>\n",
       "      <td>0.745387</td>\n",
       "    </tr>\n",
       "    <tr>\n",
       "      <th>58</th>\n",
       "      <td>0.661292</td>\n",
       "      <td>0.756685</td>\n",
       "      <td>0.673121</td>\n",
       "      <td>0.743019</td>\n",
       "      <td>0.673121</td>\n",
       "      <td>0.743019</td>\n",
       "    </tr>\n",
       "    <tr>\n",
       "      <th>59</th>\n",
       "      <td>0.657448</td>\n",
       "      <td>0.756685</td>\n",
       "      <td>NaN</td>\n",
       "      <td>0.740042</td>\n",
       "      <td>0.657448</td>\n",
       "      <td>0.740042</td>\n",
       "    </tr>\n",
       "    <tr>\n",
       "      <th>60</th>\n",
       "      <td>0.657448</td>\n",
       "      <td>0.756685</td>\n",
       "      <td>0.673121</td>\n",
       "      <td>0.736441</td>\n",
       "      <td>0.673121</td>\n",
       "      <td>0.736441</td>\n",
       "    </tr>\n",
       "    <tr>\n",
       "      <th>61</th>\n",
       "      <td>0.653569</td>\n",
       "      <td>0.743787</td>\n",
       "      <td>0.661207</td>\n",
       "      <td>0.734624</td>\n",
       "      <td>0.661207</td>\n",
       "      <td>0.734624</td>\n",
       "    </tr>\n",
       "    <tr>\n",
       "      <th>62</th>\n",
       "      <td>0.653569</td>\n",
       "      <td>0.743787</td>\n",
       "      <td>0.661207</td>\n",
       "      <td>0.731563</td>\n",
       "      <td>0.661207</td>\n",
       "      <td>0.731563</td>\n",
       "    </tr>\n",
       "    <tr>\n",
       "      <th>63</th>\n",
       "      <td>0.647681</td>\n",
       "      <td>0.743787</td>\n",
       "      <td>0.661207</td>\n",
       "      <td>0.728473</td>\n",
       "      <td>0.661207</td>\n",
       "      <td>0.728473</td>\n",
       "    </tr>\n",
       "    <tr>\n",
       "      <th>64</th>\n",
       "      <td>0.643707</td>\n",
       "      <td>0.739386</td>\n",
       "      <td>NaN</td>\n",
       "      <td>0.727234</td>\n",
       "      <td>0.643707</td>\n",
       "      <td>0.727234</td>\n",
       "    </tr>\n",
       "    <tr>\n",
       "      <th>65</th>\n",
       "      <td>0.641714</td>\n",
       "      <td>NaN</td>\n",
       "      <td>0.655085</td>\n",
       "      <td>0.721650</td>\n",
       "      <td>0.655085</td>\n",
       "      <td>0.721650</td>\n",
       "    </tr>\n",
       "    <tr>\n",
       "      <th>66</th>\n",
       "      <td>0.631656</td>\n",
       "      <td>NaN</td>\n",
       "      <td>0.655085</td>\n",
       "      <td>0.719766</td>\n",
       "      <td>0.655085</td>\n",
       "      <td>0.719766</td>\n",
       "    </tr>\n",
       "    <tr>\n",
       "      <th>67</th>\n",
       "      <td>0.627607</td>\n",
       "      <td>0.726183</td>\n",
       "      <td>NaN</td>\n",
       "      <td>0.717867</td>\n",
       "      <td>0.627607</td>\n",
       "      <td>0.717867</td>\n",
       "    </tr>\n",
       "    <tr>\n",
       "      <th>68</th>\n",
       "      <td>0.625563</td>\n",
       "      <td>NaN</td>\n",
       "      <td>0.648725</td>\n",
       "      <td>0.715312</td>\n",
       "      <td>0.648725</td>\n",
       "      <td>0.715312</td>\n",
       "    </tr>\n",
       "    <tr>\n",
       "      <th>69</th>\n",
       "      <td>NaN</td>\n",
       "      <td>0.721782</td>\n",
       "      <td>0.648725</td>\n",
       "      <td>0.714025</td>\n",
       "      <td>0.648725</td>\n",
       "      <td>0.714025</td>\n",
       "    </tr>\n",
       "    <tr>\n",
       "      <th>70</th>\n",
       "      <td>0.623498</td>\n",
       "      <td>0.717354</td>\n",
       "      <td>NaN</td>\n",
       "      <td>0.711431</td>\n",
       "      <td>0.623498</td>\n",
       "      <td>0.711431</td>\n",
       "    </tr>\n",
       "    <tr>\n",
       "      <th>71</th>\n",
       "      <td>0.619369</td>\n",
       "      <td>0.717354</td>\n",
       "      <td>0.648725</td>\n",
       "      <td>0.709479</td>\n",
       "      <td>0.648725</td>\n",
       "      <td>0.709479</td>\n",
       "    </tr>\n",
       "    <tr>\n",
       "      <th>72</th>\n",
       "      <td>0.613134</td>\n",
       "      <td>0.717354</td>\n",
       "      <td>0.642237</td>\n",
       "      <td>0.708827</td>\n",
       "      <td>0.642237</td>\n",
       "      <td>0.708827</td>\n",
       "    </tr>\n",
       "    <tr>\n",
       "      <th>73</th>\n",
       "      <td>0.606856</td>\n",
       "      <td>NaN</td>\n",
       "      <td>0.635547</td>\n",
       "      <td>0.708168</td>\n",
       "      <td>0.635547</td>\n",
       "      <td>0.708168</td>\n",
       "    </tr>\n",
       "    <tr>\n",
       "      <th>74</th>\n",
       "      <td>0.606856</td>\n",
       "      <td>0.717354</td>\n",
       "      <td>0.628786</td>\n",
       "      <td>0.705513</td>\n",
       "      <td>0.628786</td>\n",
       "      <td>0.705513</td>\n",
       "    </tr>\n",
       "    <tr>\n",
       "      <th>75</th>\n",
       "      <td>0.604742</td>\n",
       "      <td>0.717354</td>\n",
       "      <td>0.621952</td>\n",
       "      <td>0.704175</td>\n",
       "      <td>0.621952</td>\n",
       "      <td>0.704175</td>\n",
       "    </tr>\n",
       "  </tbody>\n",
       "</table>\n",
       "</div>"
      ],
      "text/plain": [
       "              Both      CRAN    GitHub      None  GH_at_least     Other\n",
       "timeline                                                               \n",
       "25        0.837746  0.861536  0.851502  0.855942     0.851502  0.855942\n",
       "26        0.836208  0.858157  0.851502  0.853081     0.851502  0.853081\n",
       "29        0.820554  0.841116       NaN  0.838029     0.820554  0.838029\n",
       "36        0.779918  0.819468  0.807639  0.813176     0.807639  0.813176\n",
       "37        0.779918  0.815709  0.802745  0.811619     0.802745  0.811619\n",
       "38        0.774908  0.808191  0.792955  0.809016     0.792955  0.808191\n",
       "39        0.768213  0.804397  0.788060  0.805888     0.788060  0.804397\n",
       "40        0.764829  0.800584  0.782976  0.802736     0.782976  0.800584\n",
       "41        0.756216       NaN  0.777791  0.799027     0.777791  0.799027\n",
       "42        0.752739  0.796754  0.772500  0.793657     0.772500  0.793657\n",
       "43        0.744007  0.792886  0.761844  0.790956     0.761844  0.790956\n",
       "44        0.742252  0.785113  0.756479  0.788227     0.756479  0.785113\n",
       "45        0.733478  0.781226  0.745749  0.784945     0.745749  0.781226\n",
       "46        0.729952  0.781226  0.745749  0.781628     0.745749  0.781226\n",
       "47        0.722848       NaN  0.734782  0.776596     0.734782  0.776596\n",
       "48        0.713790  0.777300  0.718332  0.772660     0.718332  0.772660\n",
       "49        0.710129       NaN  0.707281  0.769823     0.710129  0.769823\n",
       "50        0.700954  0.777300  0.701755  0.768684     0.701755  0.768684\n",
       "51        0.699105  0.777300  0.701755  0.767540     0.701755  0.767540\n",
       "52        0.695396  0.773294  0.701755  0.761773     0.701755  0.761773\n",
       "53        0.687939  0.773294  0.696096  0.758303     0.696096  0.758303\n",
       "54        0.682300  0.773294  0.684777  0.755964     0.684777  0.755964\n",
       "55        0.676582  0.769158  0.678974  0.754206     0.678974  0.754206\n",
       "56        0.668937  0.760843  0.678974  0.748919     0.678974  0.748919\n",
       "57        0.665115  0.756685       NaN  0.745387     0.665115  0.745387\n",
       "58        0.661292  0.756685  0.673121  0.743019     0.673121  0.743019\n",
       "59        0.657448  0.756685       NaN  0.740042     0.657448  0.740042\n",
       "60        0.657448  0.756685  0.673121  0.736441     0.673121  0.736441\n",
       "61        0.653569  0.743787  0.661207  0.734624     0.661207  0.734624\n",
       "62        0.653569  0.743787  0.661207  0.731563     0.661207  0.731563\n",
       "63        0.647681  0.743787  0.661207  0.728473     0.661207  0.728473\n",
       "64        0.643707  0.739386       NaN  0.727234     0.643707  0.727234\n",
       "65        0.641714       NaN  0.655085  0.721650     0.655085  0.721650\n",
       "66        0.631656       NaN  0.655085  0.719766     0.655085  0.719766\n",
       "67        0.627607  0.726183       NaN  0.717867     0.627607  0.717867\n",
       "68        0.625563       NaN  0.648725  0.715312     0.648725  0.715312\n",
       "69             NaN  0.721782  0.648725  0.714025     0.648725  0.714025\n",
       "70        0.623498  0.717354       NaN  0.711431     0.623498  0.711431\n",
       "71        0.619369  0.717354  0.648725  0.709479     0.648725  0.709479\n",
       "72        0.613134  0.717354  0.642237  0.708827     0.642237  0.708827\n",
       "73        0.606856       NaN  0.635547  0.708168     0.635547  0.708168\n",
       "74        0.606856  0.717354  0.628786  0.705513     0.628786  0.705513\n",
       "75        0.604742  0.717354  0.621952  0.704175     0.621952  0.704175"
      ]
     },
     "execution_count": 50,
     "metadata": {},
     "output_type": "execute_result"
    }
   ],
   "source": [
    "data_kmf['GH_at_least'] = data_kmf[['Both', 'GitHub']].max(axis=1)\n",
    "data_kmf['Other'] = data_kmf[['CRAN', 'None']].min(axis=1)\n",
    "data_kmf.query('GH_at_least <= Other')[25:75]"
   ]
  },
  {
   "cell_type": "code",
   "execution_count": 52,
   "metadata": {
    "collapsed": false
   },
   "outputs": [
    {
     "name": "stdout",
     "output_type": "stream",
     "text": [
      "<lifelines.StatisticalResult: \n",
      "Results\n",
      "   df: 1\n",
      "   alpha: 0.95\n",
      "   t 0: -1\n",
      "   test: logrank\n",
      "   null distribution: chi squared\n",
      "\n",
      "   __ p-value ___|__ test statistic __|____ test result ____|__ is significant __\n",
      "         0.03034 |              4.690 |      Reject Null    |        True       \n",
      ">\n",
      "<lifelines.StatisticalResult: \n",
      "Results\n",
      "   df: 1\n",
      "   alpha: 0.95\n",
      "   t 0: -1\n",
      "   test: logrank\n",
      "   null distribution: chi squared\n",
      "\n",
      "   __ p-value ___|__ test statistic __|____ test result ____|__ is significant __\n",
      "         0.00009 |             15.362 |      Reject Null    |        True       \n",
      ">\n"
     ]
    }
   ],
   "source": [
    "from lifelines.statistics import logrank_test\n",
    "\n",
    "groups = data_updates.groupby('RequiredBy')\n",
    "\n",
    "print logrank_test(groups.get_group('GitHub')['Duration'].dt.days, \n",
    "             groups.get_group('CRAN')['Duration'].dt.days, \n",
    "             groups.get_group('GitHub')['Observed'], \n",
    "             groups.get_group('CRAN')['Observed'], \n",
    "             alpha=0.95)\n",
    "\n",
    "print logrank_test(groups.get_group('Both')['Duration'].dt.days, \n",
    "             groups.get_group('CRAN')['Duration'].dt.days, \n",
    "             groups.get_group('Both')['Observed'], \n",
    "             groups.get_group('CRAN')['Observed'], \n",
    "             alpha=0.95)"
   ]
  },
  {
   "cell_type": "markdown",
   "metadata": {},
   "source": [
    "## Packages upgrades impact"
   ]
  },
  {
   "cell_type": "markdown",
   "metadata": {},
   "source": [
    "1. Look for CRAN packages that are required by other CRAN packages. \n",
    "2. Get all the upgrades of the packages from (1). \n",
    "3. Look if dependant packages was in ERROR at the same time. "
   ]
  },
  {
   "cell_type": "code",
   "execution_count": 42,
   "metadata": {
    "collapsed": true
   },
   "outputs": [],
   "source": [
    "import gzip\n",
    "data_errors = pandas.read_csv(gzip.GzipFile('../data/checks-history.csv.gz'))[['date', 'package', 'version', 'status']]"
   ]
  },
  {
   "cell_type": "code",
   "execution_count": 43,
   "metadata": {
    "collapsed": false
   },
   "outputs": [
    {
     "name": "stderr",
     "output_type": "stream",
     "text": [
      "/usr/lib64/python2.7/site-packages/pandas/core/frame.py:1825: UserWarning: Boolean Series key will be reindexed to match DataFrame index.\n",
      "  \"DataFrame index.\", UserWarning)\n"
     ]
    }
   ],
   "source": [
    "window = slice(pandas.Timestamp('2014-12-01 12:45:40'), pandas.Timestamp('2015-06-01'))\n",
    "\n",
    "data_errors['date'] = pandas.to_datetime(data_errors['date'])\n",
    "data_errors = data_errors[window.start <= data_errors['date']][data_errors['date'] <= window.stop]"
   ]
  },
  {
   "cell_type": "code",
   "execution_count": 44,
   "metadata": {
    "collapsed": true
   },
   "outputs": [],
   "source": [
    "data_errors['date'] = data_errors['date'].map(lambda x: x.replace(hour=0, minute=0, second=0))"
   ]
  },
  {
   "cell_type": "code",
   "execution_count": 45,
   "metadata": {
    "collapsed": false
   },
   "outputs": [],
   "source": [
    "# (1)\n",
    "required_by = {}\n",
    "\n",
    "for ix, row in data.query('InCRAN == 1').iterrows():\n",
    "    for dep in row['Dependencies']: \n",
    "        if dep in cran_pkg:\n",
    "            required_by.setdefault(dep, set()).add(row['Package'])"
   ]
  },
  {
   "cell_type": "code",
   "execution_count": 46,
   "metadata": {
    "collapsed": false
   },
   "outputs": [],
   "source": [
    "# (2)\n",
    "data_errors_required = data_errors[data_errors['package'].isin(required_by.keys())]\n",
    "# Filter packages that have no update\n",
    "data_errors_required_upgrades = data_errors_required.sort('date').groupby(['package', 'version']).first()\n",
    "data_errors_required_upgrades = data_errors_required_upgrades.reset_index().groupby('package').filter(lambda d: len(d) > 1)\n",
    "# Get package-date for each (non-first) upgrade\n",
    "data_errors_required_upgrades = data_errors_required_upgrades.drop(data_errors_required_upgrades.reset_index().groupby('package').first()['index'])"
   ]
  },
  {
   "cell_type": "code",
   "execution_count": 47,
   "metadata": {
    "collapsed": false
   },
   "outputs": [
    {
     "name": "stdout",
     "output_type": "stream",
     "text": [
      "Number of required packages that had an upgrade\n",
      "643\n",
      "Number of upgrades in required packages\n",
      "1029\n"
     ]
    }
   ],
   "source": [
    "print 'Number of required packages that had an upgrade'\n",
    "print len(data_errors_required_upgrades.groupby('package'))\n",
    "print 'Number of upgrades in required packages'\n",
    "print len(data_errors_required_upgrades)"
   ]
  },
  {
   "cell_type": "code",
   "execution_count": 48,
   "metadata": {
    "collapsed": false
   },
   "outputs": [],
   "source": [
    "data_errors_errors = data_errors.query('status == \"ERROR\"')\n",
    "upgrade_errors = []\n",
    "\n",
    "for ix, row in data_errors_required_upgrades.iterrows():\n",
    "    for depend in required_by.get(row['package'], []):\n",
    "        # look if depend at date row['date'] is in ERROR\n",
    "        df = data_errors_errors.query('package == \"{pkg}\" and date == \"{date}\"'.format(pkg=depend, date=row['date']))\n",
    "        if len(df) > 0: \n",
    "            upgrade_errors.append((depend, row['package'], row['date']))"
   ]
  },
  {
   "cell_type": "code",
   "execution_count": 49,
   "metadata": {
    "collapsed": false
   },
   "outputs": [
    {
     "name": "stdout",
     "output_type": "stream",
     "text": [
      "Number of upgrade errors in dependant package\n",
      "84\n",
      "Number of packages impacted\n",
      "60\n",
      "Number of required packages that lead to an error\n",
      "46\n",
      "Number of distinct upgrades that broke a dependant package\n",
      "59\n"
     ]
    }
   ],
   "source": [
    "data_upgrade_errors = pandas.DataFrame.from_records(upgrade_errors, columns=['depend', 'package', 'date'])\n",
    "\n",
    "print 'Number of upgrade errors in dependant package'\n",
    "print len(data_upgrade_errors)\n",
    "print 'Number of packages impacted'\n",
    "print len(data_upgrade_errors.groupby('depend'))\n",
    "\n",
    "print 'Number of required packages that lead to an error'\n",
    "print len(data_upgrade_errors.groupby('package'))\n",
    "\n",
    "print 'Number of distinct upgrades that broke a dependant package'\n",
    "print len(data_upgrade_errors.groupby(['package', 'date']))"
   ]
  },
  {
   "cell_type": "code",
   "execution_count": 50,
   "metadata": {
    "collapsed": false
   },
   "outputs": [
    {
     "data": {
      "image/png": "[encoded data removed]",
      "text/plain": [
       "<matplotlib.figure.Figure at 0x7fac8b7ab110>"
      ]
     },
     "metadata": {},
     "output_type": "display_data"
    }
   ],
   "source": [
    "fig, ax = plt.subplots()\n",
    "fig.set_size_inches(FIG_SIZE)\n",
    "\n",
    "freq = '2W'\n",
    "\n",
    "data_errors_summary = pandas.concat({'upgrades': data_errors_required_upgrades.set_index('date').resample(freq, how='count')['package'],\n",
    "               'errors': data_upgrade_errors.set_index('date').resample(freq, how='count')['package'],\n",
    "               'incchanges': data_upgrade_errors.groupby([pandas.Grouper(freq=freq, key='date'), 'package']).count()[[]].reset_index().groupby('date').count(),\n",
    "               'impact': data_upgrade_errors.groupby(pandas.Grouper(freq=freq, key='date'))['depend'].nunique()},axis=1)\n",
    "\n",
    "\n",
    "ax = data_errors_summary[['upgrades', 'incchanges']].plot(ax=ax)\n",
    "ax2 = (data_errors_summary['incchanges'] / data_errors_summary['upgrades']).plot(ax=ax, secondary_y=True, style='--')\n",
    "\n",
    "\n",
    "ax.grid(True, axis='y')\n",
    "ax.legend(['updates', 'backward inc. updates'], loc='upper left')\n",
    "ax.set_xlabel('')\n",
    "ax.set_ylim(0, 150)\n",
    "\n",
    "ax2.set_ylim(0, 0.15)\n",
    "ax2.grid()\n",
    "ax2.legend(['proportion'], title='right y-axis', loc='upper right')\n",
    "\n",
    "plt.savefig('../figures/upgrade_impact.pdf', bbox_inches='tight')"
   ]
  },
  {
   "cell_type": "code",
   "execution_count": 51,
   "metadata": {
    "collapsed": false
   },
   "outputs": [
    {
     "data": {
      "text/plain": [
       "package    0.055808\n",
       "dtype: float64"
      ]
     },
     "execution_count": 51,
     "metadata": {},
     "output_type": "execute_result"
    }
   ],
   "source": [
    "(data_errors_summary['incchanges'] / data_errors_summary['upgrades']).mean()"
   ]
  }
 ],
 "metadata": {
  "kernelspec": {
   "display_name": "Python 3",
   "language": "python",
   "name": "python3"
  },
  "language_info": {
   "codemirror_mode": {
    "name": "ipython",
    "version": 3
   },
   "file_extension": ".py",
   "mimetype": "text/x-python",
   "name": "python",
   "nbconvert_exporter": "python",
   "pygments_lexer": "ipython3",
   "version": "3.4.3"
  }
 },
 "nbformat": 4,
 "nbformat_minor": 0
}
